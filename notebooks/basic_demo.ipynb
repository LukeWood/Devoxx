{
  "nbformat": 4,
  "nbformat_minor": 0,
  "metadata": {
    "colab": {
      "provenance": [],
      "collapsed_sections": []
    },
    "kernelspec": {
      "name": "python3",
      "display_name": "Python 3"
    },
    "language_info": {
      "name": "python"
    }
  },
  "cells": [
    {
      "cell_type": "code",
      "execution_count": null,
      "metadata": {
        "id": "v_8OozmdynEV"
      },
      "outputs": [],
      "source": [
        "!pip install tensorflow keras_cv luketils --upgrade --quiet\n",
        "!apt install --allow-change-held-packages libcudnn8=8.1.0.77-1+cuda11.2"
      ]
    },
    {
      "cell_type": "code",
      "source": [
        "import time\n",
        "import keras_cv\n",
        "from tensorflow import keras\n",
        "from luketils import visualization"
      ],
      "metadata": {
        "id": "79sS7pFPyuon"
      },
      "execution_count": null,
      "outputs": []
    },
    {
      "cell_type": "code",
      "execution_count": null,
      "metadata": {
        "id": "7EmYO_76ytL-"
      },
      "outputs": [],
      "source": [
        "model = keras_cv.models.StableDiffusion(img_width=512, img_height=512)"
      ]
    },
    {
      "cell_type": "code",
      "execution_count": null,
      "metadata": {
        "id": "cW8VJlnNytMA"
      },
      "outputs": [],
      "source": [
        "images = model.text_to_image(\"\", batch_size=3)"
      ]
    },
    {
      "cell_type": "code",
      "source": [
        "visualization.plot_gallery(images, value_range=(0, 255), rows=1, cols=3)"
      ],
      "metadata": {
        "id": "3L7hLMmYy4ob"
      },
      "execution_count": null,
      "outputs": []
    }
  ]
}