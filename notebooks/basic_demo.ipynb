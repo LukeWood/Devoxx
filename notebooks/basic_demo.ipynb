{
 "cells": [
  {
   "cell_type": "markdown",
   "metadata": {},
   "source": [
    "# Setup"
   ]
  },
  {
   "cell_type": "code",
   "execution_count": null,
   "metadata": {
    "id": "v_8OozmdynEV"
   },
   "outputs": [],
   "source": [
    "!pip install tensorflow keras_cv luketils --upgrade --quiet\n",
    "!apt install --allow-change-held-packages libcudnn8=8.1.0.77-1+cuda11.2"
   ]
  },
  {
   "cell_type": "markdown",
   "metadata": {},
   "source": [
    "# Basic Generations"
   ]
  },
  {
   "cell_type": "code",
   "execution_count": null,
   "metadata": {
    "id": "79sS7pFPyuon"
   },
   "outputs": [],
   "source": [
    "import keras_cv\n",
    "from tensorflow import keras\n",
    "from luketils import visualization\n",
    "import tensorflow as tf"
   ]
  },
  {
   "cell_type": "code",
   "execution_count": null,
   "metadata": {
    "id": "7EmYO_76ytL-"
   },
   "outputs": [],
   "source": [
    "keras.mixed_precision.set_global_policy(\"mixed_float16\")\n",
    "model = keras_cv.models.StableDiffusion(img_width=512, img_height=512, jit_compile=True)"
   ]
  },
  {
   "cell_type": "code",
   "execution_count": null,
   "metadata": {
    "id": "cW8VJlnNytMA"
   },
   "outputs": [],
   "source": [
    "images = model.text_to_image(\"\", batch_size=3)"
   ]
  },
  {
   "cell_type": "code",
   "execution_count": null,
   "metadata": {
    "id": "3L7hLMmYy4ob"
   },
   "outputs": [],
   "source": [
    "visualization.plot_gallery(images, value_range=(0, 255), rows=1, cols=3)"
   ]
  },
  {
   "cell_type": "markdown",
   "metadata": {},
   "source": [
    "# Latent Walk"
   ]
  },
  {
   "cell_type": "code",
   "execution_count": null,
   "metadata": {},
   "outputs": [],
   "source": [
    "prompt_1 = \"Mysterious ruins in the snow, concept art, digital, artstation\"\n",
    "prompt_2 = \"Mysterious ruins in the summer sunlight, concept art, digital, artstation\"\n",
    "interpolation_steps = 50\n",
    "filename = \"ruins_1.gif\""
   ]
  },
  {
   "cell_type": "code",
   "execution_count": null,
   "metadata": {},
   "outputs": [],
   "source": [
    "def export_as_gif(filename, images, frames_per_second=13, rubber_band=False):\n",
    "    if rubber_band:\n",
    "        images += images[2:-1][::-1]\n",
    "    images[0].save(\n",
    "        filename,\n",
    "        save_all=True,\n",
    "        append_images=images[1:],\n",
    "        duration=1000 // frames_per_second,\n",
    "        loop=0,\n",
    "    )"
   ]
  },
  {
   "cell_type": "code",
   "execution_count": null,
   "metadata": {},
   "outputs": [],
   "source": [
    "encoding_1 = tf.squeeze(model.encode_text(prompt_1))\n",
    "encoding_2 = tf.squeeze(model.encode_text(prompt_2))\n",
    "\n",
    "batch_size = 10 # This value might to be lowered to 3 on a smaller GPU.\n",
    "batches = interpolation_steps // batch_size\n",
    "\n",
    "interpolated_encodings = tf.linspace(encoding_1, encoding_2, interpolation_steps)\n",
    "batched_encodings = tf.split(interpolated_encodings, batches)\n",
    "\n",
    "seed = 1337\n",
    "noise = tf.random.normal((512 // 8, 512 // 8, 4), seed=seed)\n",
    "\n",
    "images = []\n",
    "for batch in range(batches):\n",
    "    images += [\n",
    "        Image.fromarray(img)\n",
    "        for img in model.generate_image(\n",
    "            batched_encodings[batch],\n",
    "            batch_size=batch_size,\n",
    "            num_steps=25,\n",
    "            diffusion_noise=noise,\n",
    "        )\n",
    "    ]\n",
    "\n",
    "export_as_gif(filename, images, rubber_band=True)"
   ]
  },
  {
   "cell_type": "markdown",
   "metadata": {},
   "source": [
    "![](ruins_1.gif)"
   ]
  }
 ],
 "metadata": {
  "colab": {
   "collapsed_sections": [],
   "provenance": []
  },
  "kernelspec": {
   "display_name": "Python 3 (ipykernel)",
   "language": "python",
   "name": "python3"
  },
  "language_info": {
   "codemirror_mode": {
    "name": "ipython",
    "version": 3
   },
   "file_extension": ".py",
   "mimetype": "text/x-python",
   "name": "python",
   "nbconvert_exporter": "python",
   "pygments_lexer": "ipython3",
   "version": "3.7.3"
  }
 },
 "nbformat": 4,
 "nbformat_minor": 1
}
